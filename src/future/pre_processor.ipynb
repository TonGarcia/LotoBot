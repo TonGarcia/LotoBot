{
 "cells": [
  {
   "cell_type": "markdown",
   "metadata": {},
   "source": [
    "# LotoBot PreProcessor\n",
    "-------------------------------------\n",
    "\n",
    "Convert [CAIXA Lotery previous results](http://www1.caixa.gov.br/loterias/_arquivos/loterias/D_lotfac.zip) in JSON data to be processed by [Statistic](http://localhost:8888/notebooks/src/statistic_algorithms.ipynb) and [Machine Learning](http://localhost:8888/notebooks/src/machine_learning.ipynb) algorithms.\n",
    "\n",
    "Used Libs:\n",
    "1. Load resources (pre process HTML): [bs4](https://www.crummy.com/software/BeautifulSoup/bs4/doc/)\n",
    "1. Format output: [https://docs.python.org/3/library/string.html#format-specification-mini-language](https://docs.python.org/3/library/string.html#format-specification-mini-language)"
   ]
  },
  {
   "cell_type": "code",
   "execution_count": 1,
   "metadata": {},
   "outputs": [
    {
     "name": "stdout",
     "output_type": "stream",
     "text": [
      "Locale set to:\n"
     ]
    },
    {
     "data": {
      "text/plain": [
       "'pt_BR'"
      ]
     },
     "execution_count": 1,
     "metadata": {},
     "output_type": "execute_result"
    }
   ],
   "source": [
    "import os\n",
    "import bs4\n",
    "import time\n",
    "import locale\n",
    "import pprint\n",
    "import datetime\n",
    "import pandas as pd\n",
    "# import numpy as np\n",
    "\n",
    "print('Locale set to:')\n",
    "locale.setlocale(locale.LC_ALL, 'pt_BR')"
   ]
  },
  {
   "cell_type": "markdown",
   "metadata": {},
   "source": [
    "# CAIXA Resource"
   ]
  },
  {
   "cell_type": "markdown",
   "metadata": {},
   "source": [
    "## Load CAIXA's resources (html) results "
   ]
  },
  {
   "cell_type": "code",
   "execution_count": 2,
   "metadata": {},
   "outputs": [],
   "source": [
    "load_resource_start_time = datetime.datetime.now()\n",
    "\n",
    "resources_path = 'resources'\n",
    "lotofacil_draws_path = resources_path+'/lotofacil_draws.html'\n",
    "# train_csv_path = datasets_path+'/small-train.csv'\n",
    "# validation_csv_path = datasets_path+'/small-validation.csv'\n",
    "\n",
    "current_folder = os.path.abspath(os.path.dirname('__file__'))\n",
    "# parent_folder = os.path.abspath(os.path.join(current_folder, os.pardir))\n",
    "\n",
    "complete_lotofacil_draws_html_path = os.path.join(current_folder, lotofacil_draws_path)\n",
    "# csv_train = os.path.join(parent_folder, train_csv_path)\n",
    "# csv_validation = os.path.join(parent_folder, validation_csv_path)\n",
    "\n",
    "# stf_df_test_data = pd.read_csv(csv_test, sep=',').dropna()\n",
    "# stf_df_train_data = pd.read_csv(csv_train, sep=',').dropna()\n",
    "# stf_df_validation_data = pd.read_csv(csv_validation, sep=',').dropna()\n",
    "\n",
    "with open(complete_lotofacil_draws_html_path, 'rb') as f:\n",
    "    lotofacil_draws_html = f.read()"
   ]
  },
  {
   "cell_type": "code",
   "execution_count": 3,
   "metadata": {},
   "outputs": [
    {
     "name": "stdout",
     "output_type": "stream",
     "text": [
      "Resources loaded after 12.630 ms\n"
     ]
    }
   ],
   "source": [
    "lotofacil_soup = bs4.BeautifulSoup(lotofacil_draws_html)\n",
    "f.close()\n",
    "\n",
    "load_resource_end_time = datetime.datetime.now()\n",
    "time_diff = int(abs(load_resource_end_time - load_resource_start_time).total_seconds()*1000)\n",
    "print(\"Resources loaded after \" + \"{:n}\".format(time_diff) + \" ms\")"
   ]
  },
  {
   "cell_type": "code",
   "execution_count": 4,
   "metadata": {},
   "outputs": [],
   "source": [
    "# Free Memory (folders & files pathes)"
   ]
  },
  {
   "cell_type": "markdown",
   "metadata": {},
   "source": [
    "## Mining CAIXA's resources (html) DATA "
   ]
  },
  {
   "cell_type": "code",
   "execution_count": 5,
   "metadata": {},
   "outputs": [],
   "source": [
    "lotofacil_resulsts = {'draws': []}\n",
    "\n",
    "def merge_inner_rows_in(row):\n",
    "    '''\n",
    "    A single competition (draw) can have a lot of winners,\n",
    "    so one competition can be a bunch of rows.\n",
    "    This method return the competition as a single line\n",
    "    '''\n",
    "    total_winners = row.findAll('td')[18].content\n",
    "\n",
    "def new_draw_json_by(row):\n",
    "    attrs = row.findAll('td')\n",
    "    new_draw = {\n",
    "        \"competition\": attrs[0],\n",
    "        \"data\": attrs[1]\n",
    "    }\n",
    "    \n",
    "    print(new_draw)\n",
    "    return new_draw"
   ]
  },
  {
   "cell_type": "code",
   "execution_count": 12,
   "metadata": {},
   "outputs": [
    {
     "name": "stdout",
     "output_type": "stream",
     "text": [
      "<tr>\n",
      "<td rowspan=\"2\">24</td>\n",
      "<td rowspan=\"2\">08/03/2004</td>\n",
      "<td rowspan=\"2\">01</td>\n",
      "<td rowspan=\"2\">19</td>\n",
      "<td rowspan=\"2\">21</td>\n",
      "<td rowspan=\"2\">14</td>\n",
      "<td rowspan=\"2\">02</td>\n",
      "<td rowspan=\"2\">23</td>\n",
      "<td rowspan=\"2\">25</td>\n",
      "<td rowspan=\"2\">05</td>\n",
      "<td rowspan=\"2\">20</td>\n",
      "<td rowspan=\"2\">11</td>\n",
      "<td rowspan=\"2\">07</td>\n",
      "<td rowspan=\"2\">10</td>\n",
      "<td rowspan=\"2\">24</td>\n",
      "<td rowspan=\"2\">17</td>\n",
      "<td rowspan=\"2\">03</td>\n",
      "<td rowspan=\"2\">0,00</td>\n",
      "<td rowspan=\"2\">2</td>\n",
      "<td></td> <td>RJ\r",
      "</td>\n",
      "<td rowspan=\"2\">585</td>\n",
      "<td rowspan=\"2\">22453</td>\n",
      "<td rowspan=\"2\">258724</td>\n",
      "<td rowspan=\"2\">1286374</td>\n",
      "<td rowspan=\"2\">662.295,89</td>\n",
      "<td rowspan=\"2\">970,40</td>\n",
      "<td rowspan=\"2\">10,00</td>\n",
      "<td rowspan=\"2\">4,00</td>\n",
      "<td rowspan=\"2\">2,00</td>\n",
      "<td rowspan=\"2\">0,00</td>\n",
      "<td rowspan=\"2\">0,00</td>\n",
      "<td rowspan=\"2\">0,00</td>\n",
      "</tr>\n"
     ]
    }
   ],
   "source": [
    "# data = pd.read_html(lotofacil_draws_html)\n",
    "# data[0]\n",
    "\n",
    "counter = 0\n",
    "lotofacil_draws_table = lotofacil_soup.findAll('table')[0]\n",
    "trs = lotofacil_draws_table.findAll('tr')\n",
    "print(trs[95])\n",
    "\n",
    "# for row in lotofacil_draws_table.findAll('tr'):\n",
    "#     # Skip 0 line (headers)\n",
    "#     if counter == 0:\n",
    "#         continue\n",
    "#     # Read data lines\n",
    "#     else: \n",
    "#         lotofacil_resulsts['draws'].append(new_draw_by(row))\n",
    "#     counter = counter + 1"
   ]
  },
  {
   "cell_type": "code",
   "execution_count": 7,
   "metadata": {},
   "outputs": [],
   "source": [
    "# pprint(lotofacil_resulsts)\n",
    "# lotofacil_soup.findAll('table')\n",
    "\n",
    "# Free Memory (HTML content)\n",
    "# lotofacil_draws_table = None"
   ]
  },
  {
   "cell_type": "markdown",
   "metadata": {},
   "source": [
    "## Storing (save) CAIXA's resources (html) DATA "
   ]
  },
  {
   "cell_type": "code",
   "execution_count": 8,
   "metadata": {},
   "outputs": [],
   "source": [
    "# lotofacil_soup = bs4.BeautifulSoup(lotofacil_draws_html)"
   ]
  },
  {
   "cell_type": "code",
   "execution_count": 9,
   "metadata": {},
   "outputs": [],
   "source": [
    "# lotofacil_soup"
   ]
  },
  {
   "cell_type": "code",
   "execution_count": 10,
   "metadata": {},
   "outputs": [
    {
     "data": {
      "text/plain": [
       "{'draws': []}"
      ]
     },
     "execution_count": 10,
     "metadata": {},
     "output_type": "execute_result"
    }
   ],
   "source": [
    "lotofacil_resulsts"
   ]
  },
  {
   "cell_type": "code",
   "execution_count": 14,
   "metadata": {},
   "outputs": [
    {
     "name": "stdout",
     "output_type": "stream",
     "text": [
      "None\n"
     ]
    }
   ],
   "source": [
    "print(lotofacil_draws_table.tbody)"
   ]
  },
  {
   "cell_type": "code",
   "execution_count": null,
   "metadata": {},
   "outputs": [],
   "source": []
  }
 ],
 "metadata": {
  "kernelspec": {
   "display_name": "Python 3",
   "language": "python",
   "name": "python3"
  },
  "language_info": {
   "codemirror_mode": {
    "name": "ipython",
    "version": 3
   },
   "file_extension": ".py",
   "mimetype": "text/x-python",
   "name": "python",
   "nbconvert_exporter": "python",
   "pygments_lexer": "ipython3",
   "version": "3.7.0"
  }
 },
 "nbformat": 4,
 "nbformat_minor": 2
}
